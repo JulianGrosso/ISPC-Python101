{
 "cells": [
  {
   "cell_type": "markdown",
   "metadata": {},
   "source": [
    "## ISPC - Situación Profesional 01\n",
    "#### Construir una aplicación en Python que tendrá como nombre el del grupo, o sea, para el grupo 1 del aula 1 será A1G1.py.\n",
    "\n",
    "Esta aplicación debe llamar a funciones, cada una en su archivo .py a saber:\n",
    "\n",
    "0- función que muestre cartel de presentación.<br>\n",
    "0- función ing2i, debe permitir el ingreso de 2 valores enteros.<br>\n",
    "0- función ing2s, debe permitir el ingreso de 2 valores string.<br>\n",
    "1- función suma, retorna la suma de 2 parámetros.<br>\n",
    "2- función resta, retorna la resta de 2 parámetros.<br>\n",
    "3- función producto, retorna el producto de 2 parámetros.<br>\n",
    "4- función cociente, retorna el cociente de 2 parámetros.<br>\n",
    "5- función módulo, retorna el módulo de 2 parámetros.<br>\n",
    "6- función potencia, retorna la potencia del primero elevado al segundo parámetros.<br>\n",
    "7- función radicación, retorna la raiz del primero respecto del segundo parámetros.<br>\n",
    "9- función p1, retorna el producto de los 2 primero más el 3er parámetros, usando las funciones anteriores.<br>\n",
    "10- función p1, retorna la suma de los 2 primero por el 3er parámetros, usando las funciones anteriores.<br>\n",
    "11- función p1, retorna la resta de los 2 primero por el 3er parámetros, usando las funciones anteriores.<br>\n",
    "--NO USAR NUMPY--<br>\n",
    "12- función genrnd que retorna una lista con 50 números aleatorios.<br>\n",
    "13- función que devuelva la suma de las combinaciones posibles de los números generados por la función genrnd tomados de a dos.<br>\n",
    "14- función que devuelva el producto de las combinaciones posibles de los números generados por la función genrnd tomados de a dos.<br>\n",
    "15- función que devuelva el producto de las combinaciones posibles de los números generados por la función genrnd tomados de a dos.<br>\n",
    "16- función que calcule la media del vector obtenido en genrnd.<br>\n",
    "17- función que calcule la mediana del vector obtenido en genrnd.<br>\n",
    "18- función que calcule el rango del vector obtenido en genrnd.<br>\n",
    "19- función que calcule la varianza del vector obtenido en genrnd.<br>\n",
    "20- función que calcule devuelva el mínimo del vector obtenido en genrnd.<br>\n",
    "21- función que calcule devuelva el máximo del vector obtenido en genrnd.<br>\n",
    "22- función genrnd que retorna una lista con 500.000.000.000.000.000 números aleatorios.<br>\n",
    "23- función que calcule la media del vector obtenido en genrnd.<br>\n",
    "24- función que calcule la mediana del vector obtenido en genrnd.<br>\n",
    "25- función que calcule el rango del vector obtenido en genrnd.<br>\n",
    "26- función que calcule la varianza del vector obtenido en genrnd.<br>\n",
    "27- función que calcule devuelva el mínimo del vector obtenido en genrnd.<br>\n",
    "28- función que calcule devuelva el máximo del vector obtenido en genrnd.<br>\n",
    "29- medir el tiempo de ejecución del 16 al 21<br>\n",
    "30- medir el tiempo de ejecución del 22 al 28"
   ]
  }
 ],
 "metadata": {
  "language_info": {
   "name": "python"
  },
  "orig_nbformat": 4
 },
 "nbformat": 4,
 "nbformat_minor": 2
}
