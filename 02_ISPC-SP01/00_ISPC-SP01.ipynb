{
 "cells": [
  {
   "cell_type": "markdown",
   "metadata": {},
   "source": [
    "## ISPC - Situación Profesional 01\n",
    "#### Construir una aplicación en Python que tendrá como nombre el del grupo, o sea, para el grupo 1 del aula 1 será A6G2.py.\n",
    "\n",
    "Esta aplicación debe llamar a funciones, cada una en su archivo .py a saber:\n",
    "\n",
    "Parte 01<br>\n",
    "1.1- función que muestre cartel de presentación.<br>\n",
    "1.2- función ing2i, debe permitir el ingreso de 2 valores enteros.<br>\n",
    "1.3- función ing2s, debe permitir el ingreso de 2 valores string.<br>\n"
   ]
  },
  {
   "cell_type": "code",
   "execution_count": null,
   "metadata": {},
   "outputs": [],
   "source": [
    "# 1.1- función que muestre cartel de presentación\n",
    "\n",
    "def bienvenida():\n",
    "    return str(\"Presentacion de la APP\\n\\nCon los nombres de integrantes abajo\\n- Integrante01\\n- Integrante02\\n- Integrante03\\n\")"
   ]
  },
  {
   "cell_type": "code",
   "execution_count": null,
   "metadata": {},
   "outputs": [],
   "source": [
    "# 1.2- función ing2i, debe permitir el ingreso de 2 valores enteros\n",
    "\n",
    "def ing2i():\n",
    "    ing2i_1 = int(input(\"Ingrese su primer numero entero:\"))\n",
    "    ing2i_2 = int(input(\"Ingrese su segundo numero entero:\"))\n",
    "    ing2i_3 = int(input(\"Ingrese su tercer numero entero:\"))\n",
    "    \n",
    "    print(\"Los numeros ingresados son:\", ing2i_1, \",\", ing2i_2, \"y\", ing2i_3)\n",
    "    \n",
    "    return [ing2i_1, ing2i_2, ing2i_3]"
   ]
  },
  {
   "cell_type": "code",
   "execution_count": null,
   "metadata": {},
   "outputs": [],
   "source": [
    "# 1.3- función ing2s, debe permitir el ingreso de 2 valores string\n",
    "\n",
    "def ing2s():\n",
    "    ing2s_1 = str(input(\"Ingrese su primera palabra:\")).capitalize()\n",
    "    ing2s_2 = str(input(\"Ingrese su segunda palabra:\")).capitalize()\n",
    "    \n",
    "    print(\"Las palabras ingresadas son:\", ing2s_1, \"y\", ing2s_2)\n",
    "    \n",
    "    return [ing2s_1, ing2s_2]"
   ]
  },
  {
   "cell_type": "markdown",
   "metadata": {},
   "source": [
    "Parte 02<br>\n",
    "2.1- función suma, retorna la suma de 2 parámetros.<br>\n",
    "2.2- función resta, retorna la resta de 2 parámetros.<br>\n",
    "2.3- función producto, retorna el producto de 2 parámetros.<br>\n",
    "2.4- función cociente, retorna el cociente de 2 parámetros.<br>\n",
    "2.5- función módulo, retorna el módulo de 2 parámetros.<br>\n",
    "2.6- función potencia, retorna la potencia del primero elevado al segundo parámetros.<br>\n",
    "2.7- función radicación, retorna la raiz del primero respecto del segundo parámetros.<br>\n",
    "2.8- función p1_1, retorna el producto de los 2 primeros más el 3er parámetro, usando las funciones anteriores.<br>\n",
    "2.9- función p1_2, retorna la suma de los 2 primeros por el 3er parámetro, usando las funciones anteriores.<br>\n",
    "2.10- función p1_3, retorna la resta de los 2 primeros por el 3er parámetro, usando las funciones anteriores.<br>"
   ]
  },
  {
   "cell_type": "code",
   "execution_count": null,
   "metadata": {},
   "outputs": [],
   "source": [
    "# 2.1- función suma, retorna la suma de 2 parámetros\n",
    "\n",
    "def suma(p1, p2):\n",
    "    return p1 + p2"
   ]
  },
  {
   "cell_type": "code",
   "execution_count": null,
   "metadata": {},
   "outputs": [],
   "source": [
    "# 2.2- función resta, retorna la resta de 2 parámetros\n",
    "\n",
    "def resta(p1, p2):\n",
    "    return p1 - p2"
   ]
  },
  {
   "cell_type": "code",
   "execution_count": null,
   "metadata": {},
   "outputs": [],
   "source": [
    "# 2.3- función producto, retorna el producto de 2 parámetros\n",
    "\n",
    "def producto(p1, p2):\n",
    "    return p1 * p2"
   ]
  },
  {
   "cell_type": "code",
   "execution_count": null,
   "metadata": {},
   "outputs": [],
   "source": [
    "# 2.4- función cociente, retorna el cociente de 2 parámetros\n",
    "\n",
    "def cociente(p1, p2):\n",
    "    return p1 / p2"
   ]
  },
  {
   "cell_type": "code",
   "execution_count": null,
   "metadata": {},
   "outputs": [],
   "source": [
    "# 2.5- función módulo, retorna el módulo de 2 parámetros\n",
    "\n",
    "def modulo(p1, p2):\n",
    "    return p1 % p2"
   ]
  },
  {
   "cell_type": "code",
   "execution_count": null,
   "metadata": {},
   "outputs": [],
   "source": [
    "# 2.6- función potencia, retorna la potencia del primero elevado al segundo parámetros\n",
    "\n",
    "def potencia(p1, p2):\n",
    "    return p1**p2"
   ]
  },
  {
   "cell_type": "code",
   "execution_count": null,
   "metadata": {},
   "outputs": [],
   "source": [
    "# 2.7- función radicación, retorna la raiz del primero respecto del segundo parámetros\n",
    "\n",
    "def radicacion(p1, p2):\n",
    "    \"\"\"Calcula la raiz \"p1\" de \"p2\"\n",
    "    \n",
    "    info: https://how.okpedia.org/es/python/como-calcular-la-raiz-enesima-en-python\n",
    "    \n",
    "    Args:\n",
    "        p1 (int | float): Indice de la raiz\n",
    "        p2 (int | float): Base\n",
    "\n",
    "    Returns:\n",
    "        int | float: Resultado de la raiz \"p1\" de \"p2\"\n",
    "    \"\"\"    \n",
    "    return pow(p2,1/p1)"
   ]
  },
  {
   "cell_type": "code",
   "execution_count": null,
   "metadata": {},
   "outputs": [],
   "source": [
    "# 2.8- función p1_1, retorna el producto de los 2 primeros más el 3er parámetro, usando las funciones anteriores\n",
    "\n",
    "def p1_1(param1, param2, param3):\n",
    "    op_prod = producto(param1, param2)\n",
    "    result = round(suma(op_prod, param3), 2)    \n",
    "    return result"
   ]
  },
  {
   "cell_type": "code",
   "execution_count": null,
   "metadata": {},
   "outputs": [],
   "source": [
    "# 2.9- función p1_2, retorna la suma de los 2 primeros por el 3er parámetro, usando las funciones anteriores\n",
    "\n",
    "def p1_2(param1, param2, param3):\n",
    "    op_suma = suma(param1, param2)\n",
    "    result = round(producto(op_suma, param3), 2)    \n",
    "    return result"
   ]
  },
  {
   "cell_type": "code",
   "execution_count": null,
   "metadata": {},
   "outputs": [],
   "source": [
    "# 2.10- función p1_3, retorna la resta de los 2 primeros por el 3er parámetro, usando las funciones anteriores\n",
    "\n",
    "def p1_3(param1, param2, param3):\n",
    "    op_resta = resta(param1, param2)\n",
    "    result = round(producto(op_resta, param3), 2)    \n",
    "    return result"
   ]
  },
  {
   "cell_type": "markdown",
   "metadata": {},
   "source": [
    "Parte 03<br>\n",
    "--NO USAR NUMPY--<br>\n",
    "3.1- función genrnd que retorna una lista con 50 números aleatorios.<br>\n",
    "3.2- función que devuelva la suma de las combinaciones posibles de los números generados por la función genrnd tomados de a dos.<br>\n",
    "3.3- función que devuelva el producto de las combinaciones posibles de los números generados por la función genrnd tomados de a dos."
   ]
  },
  {
   "cell_type": "code",
   "execution_count": null,
   "metadata": {},
   "outputs": [],
   "source": [
    "# 3.1- función genrnd que retorna una lista con 50 números aleatorios ((entre 0 y 100))\n",
    "\n",
    "import random\n",
    "\n",
    "def genrnd():\n",
    "    rndnum = random.sample(range(100), 50)\n",
    "    return rndnum\n"
   ]
  },
  {
   "cell_type": "code",
   "execution_count": null,
   "metadata": {},
   "outputs": [],
   "source": [
    "# 3.2- función que devuelva la suma de las combinaciones posibles de los números generados por la función genrnd tomados de a dos\n",
    "\n",
    "def f2_genrnd ():\n",
    "    num_list = genrnd()\n",
    "\n",
    "    i = 0\n",
    "    result = 0\n",
    "    \n",
    "    while i < len(num_list):\n",
    "        # print('i:' , i, \"| Num:\", num_list[i])\n",
    "        x = 0\n",
    "        while x < len(num_list):            \n",
    "            if x != i:\n",
    "                # print('i:',i,\"| x:\",x, \"| Num:\", int(str(num_list[i]) + str(num_list[x])) )\n",
    "                result += int(str(num_list[i]) + str(num_list[x]))        \n",
    "            x += 1        \n",
    "        i += 1\n",
    "    \n",
    "    return print(\"La suma de las combinaciones posibles de los números\\ngenerados por la función genrnd tomados de a dos es igual a:\", result)\n",
    "\n",
    "\n",
    "# Test\n",
    "# f2_genrnd()"
   ]
  },
  {
   "cell_type": "code",
   "execution_count": null,
   "metadata": {},
   "outputs": [],
   "source": [
    "# 3.3- función que devuelva el producto de las combinaciones posibles de los números generados por la función genrnd tomados de a dos\n",
    "\n",
    "def f3_genrnd ():\n",
    "    num_list = genrnd()\n",
    "\n",
    "    i = 0\n",
    "    result = 1\n",
    "    \n",
    "    while i < len(num_list):\n",
    "        # print('i:' , i, \"| Num:\", num_list[i])\n",
    "        x = 0\n",
    "        while x < len(num_list):            \n",
    "            if x != i:\n",
    "                # print('i:',i,\"| x:\",x, \"| Num:\", int(str(num_list[i]) + str(num_list[x])) )\n",
    "                result = result * int(str(num_list[i]) + str(num_list[x]))\n",
    "            x += 1        \n",
    "        i += 1\n",
    "    \n",
    "    return print(\"La suma de las combinaciones posibles de los números\\ngenerados por la función genrnd tomados de a dos es igual a:\", result)\n",
    "\n",
    "\n",
    "# Test\n",
    "# f3_genrnd()"
   ]
  },
  {
   "cell_type": "markdown",
   "metadata": {},
   "source": [
    "3.4- función que calcule la media del vector obtenido en genrnd.<br>\n",
    "3.5- función que calcule la mediana del vector obtenido en genrnd.<br>\n",
    "3.6- función que calcule el rango del vector obtenido en genrnd.<br>\n",
    "3.7- función que calcule la varianza del vector obtenido en genrnd.<br>\n",
    "3.8- función que calcule devuelva el mínimo del vector obtenido en genrnd.<br>\n",
    "3.9- función que calcule devuelva el máximo del vector obtenido en genrnd."
   ]
  },
  {
   "cell_type": "code",
   "execution_count": 8,
   "metadata": {},
   "outputs": [],
   "source": [
    "# 3.4- función que calcule la media del vector obtenido en genrnd"
   ]
  },
  {
   "cell_type": "markdown",
   "metadata": {},
   "source": [
    "3.10- función genrnd que retorna una lista con 500.000.000.000.000.000 números aleatorios.(Quinientos mil billones)<br>\n",
    "3.11- función que calcule la media del vector obtenido en genrnd.<br>\n",
    "3.12- función que calcule la mediana del vector obtenido en genrnd.<br>\n",
    "3.13- función que calcule el rango del vector obtenido en genrnd.<br>\n",
    "3.14- función que calcule la varianza del vector obtenido en genrnd.<br>\n",
    "3.15- función que calcule devuelva el mínimo del vector obtenido en genrnd.<br>\n",
    "3.16- función que calcule devuelva el máximo del vector obtenido en genrnd."
   ]
  },
  {
   "cell_type": "markdown",
   "metadata": {},
   "source": [
    "3.17- medir el tiempo de ejecución de 3.4 al 3.9<br>\n",
    "3.18- medir el tiempo de ejecución de 3.10 al 3.16"
   ]
  },
  {
   "cell_type": "markdown",
   "metadata": {},
   "source": [
    "### Ejecucion completa de la APP:"
   ]
  },
  {
   "cell_type": "code",
   "execution_count": null,
   "metadata": {},
   "outputs": [],
   "source": [
    "# Archivo A6G2.py\n",
    "\n",
    "# Presentación:\n",
    "print(bienvenida())\n",
    "\n",
    "# Inputs del usuario:\n",
    "print(\"Inputs del usuario:\")\n",
    "user_int = ing2i()\n",
    "user_str = ing2s()\n",
    "\n",
    "# Ejecución de Funciones:\n",
    "print(\"\\nEjecución de Funciones:\")\n",
    "print(\"El resultado de Suma es:\", suma(user_int[0], user_int[1]))\n",
    "print(\"El resultado de Resta es:\", resta(user_int[0], user_int[1]))\n",
    "print(\"El resultado de Producto es:\", producto(user_int[0], user_int[1]))\n",
    "print(\"El resultado de Cociente es:\", cociente(user_int[0], user_int[1]))\n",
    "print(\"El resultado de Modulo es:\", modulo(user_int[0], user_int[1]))\n",
    "print(\"El resultado de Potencia es:\", potencia(user_int[0], user_int[1]))\n",
    "print(\"El resultado de Radicación es:\", radicacion(user_int[0], user_int[1]))\n",
    "print(\"El resultado de Resta es:\", resta(user_int[0], user_int[1]))\n",
    "print(\"El resultado de P1_1 es:\", p1_1(user_int[0], user_int[1], user_int[2]))\n",
    "print(\"El resultado de P1_2 es:\", p1_2(user_int[0], user_int[1], user_int[2]))\n",
    "print(\"El resultado de P1_3 es:\", p1_3(user_int[0], user_int[1], user_int[2]))\n",
    "\n",
    "# ----------\n",
    "print(\"\\n\\nFin de Ejecución\")"
   ]
  }
 ],
 "metadata": {
  "kernelspec": {
   "display_name": "Python 3.9.12 ('base')",
   "language": "python",
   "name": "python3"
  },
  "language_info": {
   "codemirror_mode": {
    "name": "ipython",
    "version": 3
   },
   "file_extension": ".py",
   "mimetype": "text/x-python",
   "name": "python",
   "nbconvert_exporter": "python",
   "pygments_lexer": "ipython3",
   "version": "3.9.12"
  },
  "orig_nbformat": 4,
  "vscode": {
   "interpreter": {
    "hash": "3d20e95194b38cd10b67f26529e89b90257e37bc73d8c6431bc868719e863699"
   }
  }
 },
 "nbformat": 4,
 "nbformat_minor": 2
}
