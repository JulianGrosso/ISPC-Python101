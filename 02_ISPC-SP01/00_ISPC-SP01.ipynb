{
 "cells": [
  {
   "cell_type": "markdown",
   "metadata": {},
   "source": [
    "## ISPC - Situación Profesional 01\n",
    "#### Construir una aplicación en Python que tendrá como nombre el del grupo, o sea, para el grupo 1 del aula 1 será A6G2.py.\n",
    "\n",
    "Esta aplicación debe llamar a funciones, cada una en su archivo .py a saber:\n",
    "\n",
    "Parte 01<br>\n",
    "1.1- función que muestre cartel de presentación.<br>\n",
    "1.2- función ing2i, debe permitir el ingreso de 2 valores enteros.<br>\n",
    "1.3- función ing2s, debe permitir el ingreso de 2 valores string.<br>\n"
   ]
  },
  {
   "cell_type": "code",
   "execution_count": null,
   "metadata": {},
   "outputs": [],
   "source": [
    "# 1.1- función que muestre cartel de presentación\n",
    "\n",
    "def func_1_1 ():\n",
    "    return print(\"Presentacion de la APP\\n\\nCon los nombres de integrantes abajo\\n- Integrante01\\n- Integrante02\\n- Integrante03\\n\")"
   ]
  },
  {
   "cell_type": "code",
   "execution_count": null,
   "metadata": {},
   "outputs": [],
   "source": [
    "# 1.2- función ing2i, debe permitir el ingreso de 2 valores enteros\n",
    "\n",
    "def ing2i ():\n",
    "    ing2i_1 = int(input(\"Ingrese su primer numero entero:\"))\n",
    "    ing2i_2 = int(input(\"Ingrese su segundo numero entero:\"))\n",
    "    \n",
    "    print(\"Los numeros ingresados son:\", ing2i_1, \"y\", ing2i_2)\n",
    "    \n",
    "    return [ing2i_1, ing2i_2]"
   ]
  },
  {
   "cell_type": "code",
   "execution_count": null,
   "metadata": {},
   "outputs": [],
   "source": [
    "# 1.3- función ing2s, debe permitir el ingreso de 2 valores string\n",
    "\n",
    "def ing2s ():\n",
    "    ing2s_1 = str(input(\"Ingrese su primera palabra entero:\")).capitalize()\n",
    "    ing2s_2 = str(input(\"Ingrese su segunda palabra entero:\")).capitalize()\n",
    "    \n",
    "    print(\"Las palabras ingresadas son:\", ing2s_1, \"y\", ing2s_2)\n",
    "    \n",
    "    return [ing2s_1, ing2s_2]"
   ]
  },
  {
   "cell_type": "markdown",
   "metadata": {},
   "source": [
    "Parte 02<br>\n",
    "2.1- función suma, retorna la suma de 2 parámetros.<br>\n",
    "2.2- función resta, retorna la resta de 2 parámetros.<br>\n",
    "2.3- función producto, retorna el producto de 2 parámetros.<br>\n",
    "2.4- función cociente, retorna el cociente de 2 parámetros.<br>\n",
    "2.5- función módulo, retorna el módulo de 2 parámetros.<br>\n",
    "2.6- función potencia, retorna la potencia del primero elevado al segundo parámetros.<br>\n",
    "2.7- función radicación, retorna la raiz del primero respecto del segundo parámetros.<br>\n",
    "2.9- función p1, retorna el producto de los 2 primero más el 3er parámetros, usando las funciones anteriores.<br>\n",
    "2.10- función p1, retorna la suma de los 2 primero por el 3er parámetros, usando las funciones anteriores.<br>\n",
    "2.11- función p1, retorna la resta de los 2 primero por el 3er parámetros, usando las funciones anteriores.<br>"
   ]
  },
  {
   "cell_type": "code",
   "execution_count": 1,
   "metadata": {},
   "outputs": [],
   "source": [
    "# 2.1- función suma, retorna la suma de 2 parámetros\n",
    "\n",
    "def func_suma(p1, p2):\n",
    "    return p1 + p2"
   ]
  },
  {
   "cell_type": "code",
   "execution_count": null,
   "metadata": {},
   "outputs": [],
   "source": [
    "# 2.2- función resta, retorna la resta de 2 parámetros\n",
    "\n",
    "def func_resta (p1, p2):\n",
    "    return p1 - p2"
   ]
  },
  {
   "cell_type": "code",
   "execution_count": null,
   "metadata": {},
   "outputs": [],
   "source": [
    "# 2.3- función producto, retorna el producto de 2 parámetros\n",
    "\n",
    "def func_producto (p1, p2):\n",
    "    return p1 * p2"
   ]
  },
  {
   "cell_type": "code",
   "execution_count": 1,
   "metadata": {},
   "outputs": [],
   "source": [
    "# 2.4- función cociente, retorna el cociente de 2 parámetros\n",
    "\n",
    "def func_cociente (p1, p2):\n",
    "    return p1 / p2"
   ]
  },
  {
   "cell_type": "code",
   "execution_count": null,
   "metadata": {},
   "outputs": [],
   "source": [
    "# 2.5- función módulo, retorna el módulo de 2 parámetros\n",
    "\n",
    "def func_modulo (p1, p2):\n",
    "    return p1 % p2"
   ]
  },
  {
   "cell_type": "code",
   "execution_count": null,
   "metadata": {},
   "outputs": [],
   "source": [
    "# 2.6- función potencia, retorna la potencia del primero elevado al segundo parámetros\n",
    "\n",
    "def func_potencia (p1, p2):\n",
    "    return p1**p2"
   ]
  },
  {
   "cell_type": "code",
   "execution_count": null,
   "metadata": {},
   "outputs": [],
   "source": [
    "# 2.7- función radicación, retorna la raiz del primero respecto del segundo parámetros\n",
    "\n",
    "def func_radicacion (p1, p2):\n",
    "    return"
   ]
  },
  {
   "cell_type": "markdown",
   "metadata": {},
   "source": [
    "Parte 03<br>\n",
    "--NO USAR NUMPY--<br>\n",
    "12- función genrnd que retorna una lista con 50 números aleatorios.<br>\n",
    "13- función que devuelva la suma de las combinaciones posibles de los números generados por la función genrnd tomados de a dos.<br>\n",
    "14- función que devuelva el producto de las combinaciones posibles de los números generados por la función genrnd tomados de a dos.<br>\n",
    "15- función que devuelva el producto de las combinaciones posibles de los números generados por la función genrnd tomados de a dos.<br>\n",
    "16- función que calcule la media del vector obtenido en genrnd.<br>\n",
    "17- función que calcule la mediana del vector obtenido en genrnd.<br>\n",
    "18- función que calcule el rango del vector obtenido en genrnd.<br>\n",
    "19- función que calcule la varianza del vector obtenido en genrnd.<br>\n",
    "20- función que calcule devuelva el mínimo del vector obtenido en genrnd.<br>\n",
    "21- función que calcule devuelva el máximo del vector obtenido en genrnd.<br>\n",
    "22- función genrnd que retorna una lista con 500.000.000.000.000.000 números aleatorios.<br>\n",
    "23- función que calcule la media del vector obtenido en genrnd.<br>\n",
    "24- función que calcule la mediana del vector obtenido en genrnd.<br>\n",
    "25- función que calcule el rango del vector obtenido en genrnd.<br>\n",
    "26- función que calcule la varianza del vector obtenido en genrnd.<br>\n",
    "27- función que calcule devuelva el mínimo del vector obtenido en genrnd.<br>\n",
    "28- función que calcule devuelva el máximo del vector obtenido en genrnd.<br>\n",
    "29- medir el tiempo de ejecución del 16 al 21<br>\n",
    "30- medir el tiempo de ejecución del 22 al 28"
   ]
  },
  {
   "cell_type": "code",
   "execution_count": null,
   "metadata": {},
   "outputs": [],
   "source": [
    "# Archivo A6G2.py\n",
    "\n",
    "# Presentación:\n",
    "func_1_1()\n",
    "\n",
    "# Inputs del usuario:\n",
    "user_i = ing2i()\n",
    "user_s = ing2s()\n"
   ]
  }
 ],
 "metadata": {
  "kernelspec": {
   "display_name": "Python 3.9.12 ('base')",
   "language": "python",
   "name": "python3"
  },
  "language_info": {
   "codemirror_mode": {
    "name": "ipython",
    "version": 3
   },
   "file_extension": ".py",
   "mimetype": "text/x-python",
   "name": "python",
   "nbconvert_exporter": "python",
   "pygments_lexer": "ipython3",
   "version": "3.9.12"
  },
  "orig_nbformat": 4,
  "vscode": {
   "interpreter": {
    "hash": "3d20e95194b38cd10b67f26529e89b90257e37bc73d8c6431bc868719e863699"
   }
  }
 },
 "nbformat": 4,
 "nbformat_minor": 2
}
