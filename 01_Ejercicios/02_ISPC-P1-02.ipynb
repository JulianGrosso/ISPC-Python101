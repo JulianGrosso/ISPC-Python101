{
 "cells": [
  {
   "cell_type": "markdown",
   "metadata": {},
   "source": [
    "## Ejercicios de Asignación"
   ]
  },
  {
   "cell_type": "markdown",
   "metadata": {},
   "source": [
    "## Ejercicio 2.1. \n",
    "Escribir un programa que le pregunte al usuario una cantidad de pesos, una tasa de interés y un número de años y muestre como resultado el monto final a obtener. La fórmula a utilizar es:\n",
    "\n",
    "Cn = C * (1 + x/100) ^ n\n",
    "\n",
    "Donde C es el capital inicial, x es la tasa de interés y n es el número de años a calcular."
   ]
  },
  {
   "cell_type": "code",
   "execution_count": null,
   "metadata": {},
   "outputs": [],
   "source": [
    "c = int(input(\"Ingrese el monto a invertir:\"))\n",
    "x = int(input(\"Ingrese la tasa de interés:\"))\n",
    "n = int(input(\"Ingrese el periodo de tiempo en años de la inversión:\"))\n",
    "\n",
    "Cn = c * (1 + x / 100)**n\n",
    "\n",
    "print(\"El monto final que obtendrá de la inversión es: $\" , round(Cn, 1))"
   ]
  },
  {
   "cell_type": "markdown",
   "metadata": {},
   "source": [
    "## Ejercicio 2.2. \n",
    "\n",
    "Escribir un programa que convierta un valor dado en grados Fahrenheit a grados Celsius. Recordar que la fórmula para la conversión es:\n",
    "\n",
    "F = 9/5 * C + 32."
   ]
  },
  {
   "cell_type": "code",
   "execution_count": null,
   "metadata": {},
   "outputs": [],
   "source": [
    "f = int(input(\"Ingrese la cantidad de grados Fahrenheit que quiere convertir a grados Celsius:\"))\n",
    "\n",
    "c = round(((5 * ( f - 32)) / 9), 1)\n",
    "\n",
    "print(f , \"Fahrenheit son igual a\", c , \"Celsius.\")"
   ]
  },
  {
   "cell_type": "markdown",
   "metadata": {},
   "source": [
    "## Ejercicio 2.3.\n",
    "\n",
    "Escribir un programa que pregunte el nombre del usuario en la consola y después de que el usuario lo introduzca muestre por pantalla el nombre en mayúsculas y el número de caracteres que contiene en líneas distintas."
   ]
  },
  {
   "cell_type": "code",
   "execution_count": null,
   "metadata": {},
   "outputs": [],
   "source": [
    "name = str(input(\"Ingrese su nombre:\"))\n",
    "\n",
    "print(name.upper())\n",
    "print(\"Tu nombre tiene\" , len(name), \"caracteres.\")"
   ]
  },
  {
   "cell_type": "markdown",
   "metadata": {},
   "source": [
    "## Ejercicios con Condicionales simples"
   ]
  },
  {
   "cell_type": "markdown",
   "metadata": {},
   "source": [
    "## Ejercicio 2.4.\n",
    "Escribir un programa que pregunte al usuario su edad y muestre por pantalla si es mayor de edad o no."
   ]
  },
  {
   "cell_type": "code",
   "execution_count": null,
   "metadata": {},
   "outputs": [],
   "source": [
    "edad = int(input(\"Cuántos años tenes?\"))\n",
    "\n",
    "if edad >= 18:\n",
    "    print(\"Sos mayor de edad\")\n",
    "else:\n",
    "    print(\"Sos menor de edad\")"
   ]
  },
  {
   "cell_type": "markdown",
   "metadata": {},
   "source": [
    "## Ejercicio 2.5.\n",
    "\n",
    "Para tributar un determinado impuesto se debe ser mayor de 16 años y tener unos ingresos superiores a $1000 mensuales.\n",
    "Escribir un programa que pregunte al usuario su edad y sus ingresos mensuales y muestre por pantalla si el usuario tiene que tributar o no.\n"
   ]
  },
  {
   "cell_type": "code",
   "execution_count": null,
   "metadata": {},
   "outputs": [],
   "source": [
    "edad = int(input(\"Cuántos años tenes?\"))\n",
    "ingresos = int(input(\"Cuántos son tus ingresos mensuales?\"))\n",
    "\n",
    "if edad >= 16 and ingresos >= 1000:\n",
    "    print(\"Tienes que tributar el impuesto.\")\n",
    "else:\n",
    "    print(\"No es necesario que tributes el impuesto.\")"
   ]
  },
  {
   "cell_type": "markdown",
   "metadata": {},
   "source": [
    "## Ejercicios con Bucles repetitivos"
   ]
  },
  {
   "cell_type": "markdown",
   "metadata": {},
   "source": [
    "## Ejercicio 2.6. \n",
    "\n",
    "Escribir un programa que imprima todos los números pares entre dos números que se le pidan al usuario."
   ]
  },
  {
   "cell_type": "code",
   "execution_count": null,
   "metadata": {},
   "outputs": [],
   "source": [
    "num1 = int(input(\"Ingrese el primer número:\"))\n",
    "num2 = int(input(\"Ingrese el segundo número:\"))\n",
    "i = num1 + 1\n",
    "\n",
    "print(\"Entre los números\", num1, \"y\", num2, \"existen los siguientes números pares:\")\n",
    "\n",
    "while i > num1 and i < num2:\n",
    "    if i % 2 == 0:\n",
    "        print(i)\n",
    "    i += 1"
   ]
  },
  {
   "cell_type": "markdown",
   "metadata": {},
   "source": [
    "## Ejercicio 2.7.\n",
    "\n",
    "Escribir un programa que pida al usuario un número entero positivo y muestre por pantalla la cuenta desde atrás de ese número hasta cero separados por comas."
   ]
  },
  {
   "cell_type": "code",
   "execution_count": null,
   "metadata": {},
   "outputs": [],
   "source": [
    "num = int(input(\"Ingrese un número entero positivo:\"))\n",
    "num_list = []\n",
    "\n",
    "if num > 0:\n",
    "    while num >= 0:\n",
    "        num_list.append(str(num))\n",
    "        num -= 1\n",
    "else:\n",
    "    print(\"Ingrese un número entero positivo por favor.\")\n",
    "    \n",
    "str_num_list = \", \".join(num_list)\n",
    "    \n",
    "print(str_num_list)"
   ]
  },
  {
   "cell_type": "markdown",
   "metadata": {},
   "source": [
    "## Ejercicio 2.8.\n",
    "\n",
    "Escribir un programa que pida al usuario un número entero positivo y muestre por pantalla todos los números impares desde 1 hasta ese número separados por comas.\n",
    "Ayuda: usar el módulo de 2 (%)"
   ]
  },
  {
   "cell_type": "code",
   "execution_count": null,
   "metadata": {},
   "outputs": [],
   "source": [
    "num = int(input(\"Ingrese un número entero positivo:\"))\n",
    "num_list = []\n",
    "i = 1\n",
    "\n",
    "if num > 0:\n",
    "    while i < num:\n",
    "        if i % 2 != 0:\n",
    "            num_list.append(str(i))\n",
    "        i += 1\n",
    "else:\n",
    "    print(\"Ingrese un número entero positivo por favor.\")\n",
    "    \n",
    "str_num_list = \", \".join(num_list)\n",
    "    \n",
    "print(\"Los números impares entre 1 y\", num, \"son:\", str_num_list)"
   ]
  },
  {
   "cell_type": "markdown",
   "metadata": {},
   "source": [
    "## Ejercicio 2.9.\n",
    "\n",
    "#### Ciclos definidos\n",
    "\n",
    "    1- Escribir un ciclo definido para imprimir por pantalla todos los números entre 10 y 20.\n",
    "    2- Escribir un ciclo definido que salude por pantalla a sus cinco mejores amigos/as.\n",
    "    3- Escribir un programa que use un ciclo definido con rango numérico, que pregunte los nombres de sus cinco mejores amigos/as, y los salude.\n",
    "    4- Escribir un programa que use un ciclo definido con rango numérico, que averigue a cuántos amigos quieren saludar, les pregunte los nombres de esos amigos/as, y los salude.\n"
   ]
  },
  {
   "cell_type": "markdown",
   "metadata": {},
   "source": [
    "### 2.9.1"
   ]
  },
  {
   "cell_type": "code",
   "execution_count": null,
   "metadata": {},
   "outputs": [],
   "source": [
    "# 1- Escribir un ciclo definido para imprimir por pantalla todos los números entre 10 y 20\n",
    "\n",
    "for x in range(10, 21):\n",
    "    print(x)"
   ]
  },
  {
   "cell_type": "markdown",
   "metadata": {},
   "source": [
    "### 2.9.2"
   ]
  },
  {
   "cell_type": "code",
   "execution_count": null,
   "metadata": {},
   "outputs": [],
   "source": [
    "# 2- Escribir un ciclo definido que salude por pantalla a sus cinco mejores amigos/as\n",
    "\n",
    "friends = [\"Lucas\", \"Pedro\", \"Juan\", \"Andrea\", \"Agustina\"]\n",
    "\n",
    "for x in friends:\n",
    "    print(\"Hola\", x)"
   ]
  },
  {
   "cell_type": "markdown",
   "metadata": {},
   "source": [
    "### 2.9.3"
   ]
  },
  {
   "cell_type": "code",
   "execution_count": null,
   "metadata": {},
   "outputs": [],
   "source": [
    "# 3- Escribir un programa que use un ciclo definido con rango numérico, que pregunte los nombres de sus cinco mejores amigos/as, y los salude\n",
    "\n",
    "for i in range(5):\n",
    "    name = (str(input(\"Cómo se llama tu amigx?\"))).capitalize()\n",
    "    print(\"Hola\", name)"
   ]
  },
  {
   "cell_type": "markdown",
   "metadata": {},
   "source": [
    "### 2.9.4"
   ]
  },
  {
   "cell_type": "code",
   "execution_count": null,
   "metadata": {},
   "outputs": [],
   "source": [
    "# 4- Escribir un programa que use un ciclo definido con rango numérico, que averigue a cuántos amigos quieren saludar,\n",
    "#    les pregunte los nombres de esos amigos/as, y los salude.\n",
    "\n",
    "def saludar():\n",
    "    num = int(input(\"Cúantos amigos tenes?\"))\n",
    "    \n",
    "    for i in range(num):\n",
    "        name = (str(input(\"Cómo se llama tu amigx?\"))).capitalize()\n",
    "        print(\"Hola\", name)\n",
    "    \n",
    "saludar()  \n",
    "    "
   ]
  }
 ],
 "metadata": {
  "interpreter": {
   "hash": "3d20e95194b38cd10b67f26529e89b90257e37bc73d8c6431bc868719e863699"
  },
  "kernelspec": {
   "display_name": "Python 3.9.12 ('base')",
   "language": "python",
   "name": "python3"
  },
  "language_info": {
   "codemirror_mode": {
    "name": "ipython",
    "version": 3
   },
   "file_extension": ".py",
   "mimetype": "text/x-python",
   "name": "python",
   "nbconvert_exporter": "python",
   "pygments_lexer": "ipython3",
   "version": "3.9.12"
  },
  "orig_nbformat": 4
 },
 "nbformat": 4,
 "nbformat_minor": 2
}
